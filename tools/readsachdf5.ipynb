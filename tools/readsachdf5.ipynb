{
 "cells": [
  {
   "cell_type": "code",
   "execution_count": 1,
   "metadata": {},
   "outputs": [],
   "source": [
    "import numpy as np\n",
    "import matplotlib.pyplot as plt \n",
    "import datetime\n",
    "import h5py\n",
    "\n",
    "#import os\n",
    "#import math"
   ]
  },
  {
   "cell_type": "code",
   "execution_count": 2,
   "metadata": {},
   "outputs": [],
   "source": [
    "def getdata(filename, staname, cmpid):\n",
    "    if cmpid < 0 or cmpid > 2:\n",
    "        print('Error with cmpid =', cmpid, 'can only be 0-2')\n",
    "        return 0,0\n",
    "    \n",
    "    fid = h5py.File(filename, 'r')\n",
    "    grp = fid[staname]\n",
    "    npts = grp['NPTS'][0]\n",
    "    nsew = grp['ISNSEW'][0]\n",
    "    if nsew == 1:\n",
    "        data_names = ['EW', 'NS', 'UP']\n",
    "        has_nsew = 1\n",
    "    else:\n",
    "        data_names = ['X', 'Y', 'Z']\n",
    "        \n",
    "    data=np.array(grp[data_names[cmpid]][0:npts])\n",
    "    \n",
    "    return data,npts\n",
    "\n",
    "def gettimeseries(filename, staname):\n",
    "    fid = h5py.File(filename, 'r')\n",
    "    grp = fid[staname]\n",
    "    npts = grp['NPTS'][0]\n",
    "    delta = fid['DELTA'][0]\n",
    "    if npts <= 0 or delta <=0:\n",
    "        print('Error with station data, npts = ', npts, ', delta = ', delta)\n",
    "    origintime = fid['ORIGINTIME'][0]\n",
    "    datatime= np.linspace(origintime, delta*(npts-1), npts)\n",
    "    #print(delta, npts, origintime, datatime[0], datatime[10])\n",
    "    \n",
    "    return datatime\n",
    "\n",
    "def getxyz(filename, staname):\n",
    "    fid = h5py.File(filename, 'r')\n",
    "    grp = fid[staname]\n",
    "    stxyz = grp['STX,STY,STZ']\n",
    "    return stxyz[0], stxyz[1], stxyz[2]\n",
    "\n",
    "\n",
    "def getlatlondp(filename, staname):\n",
    "    fid = h5py.File(filename, 'r')\n",
    "    grp = fid[staname]\n",
    "    stlalodp = grp['STLA,STLO,STDP']\n",
    "    return stlalodp[0], stlalodp[1], stlalodp[2]\n",
    "\n",
    "def getloc(filename, staname):\n",
    "    fid = h5py.File(filename, 'r')\n",
    "    grp = fid[staname]\n",
    "    loc = grp['LOC'][0]\n",
    "    return loc\n",
    "\n",
    "def getstarttime(filename):\n",
    "    fid = h5py.File(filename, 'r')\n",
    "    timestr = str(fid.attrs['DATETIME'], 'utf-8')\n",
    "    starttime = datetime.datetime.strptime(timestr, '%Y-%m-%dT%H:%M:%S.%f')\n",
    "    return starttime\n",
    "\n",
    "def getdt(filename):\n",
    "    fid = h5py.File(filename, 'r')\n",
    "    delta = fid['DELTA'][0]\n",
    "    return delta\n",
    "\n",
    "def getunit(filename):\n",
    "    fid = h5py.File(filename, 'r')\n",
    "    unit = str(fid.attrs['UNIT'], 'utf-8')\n",
    "    return unit\n",
    "\n",
    "def getcmpazinc(filename, staname, cmpid):\n",
    "    if cmpid < 0 or cmpid > 2:\n",
    "        print('Error with cmpid =', cmpid, 'can only be 0-2')\n",
    "        return -1, -1\n",
    "    fid = h5py.File(filename, 'r')\n",
    "    grp = fid[staname]\n",
    "    nsew = grp['ISNSEW'][0]\n",
    "    if nsew == 1:\n",
    "        data_names = ['EW', 'NS', 'UP']\n",
    "        has_nsew = 1\n",
    "    else:\n",
    "        data_names = ['X', 'Y', 'Z']\n",
    "\n",
    "    azname = data_names[cmpid] + 'CMPAZ'\n",
    "    incname = data_names[cmpid] + 'CMPINC'\n",
    "    cmpaz = grp[azname][0]\n",
    "    cmpinc = grp[incname][0]\n",
    "\n",
    "    return cmpaz, cmpinc"
   ]
  },
  {
   "cell_type": "code",
   "execution_count": 5,
   "metadata": {},
   "outputs": [
    {
     "name": "stdout",
     "output_type": "stream",
     "text": [
      "Station BK.WENL\n",
      "  x = 111566.984 y = 22683.643 z = 30.3\n",
      "  lat = 37.62211 lon = -121.75697 depth = 30.3\n",
      "  loc = 0\n",
      "  start time = 2018-01-04 10:39:32.000694\n",
      "  delta = 0.022792023\n",
      "  unit = m\n",
      "  cmpaz = 0.0 cmpinc = 90.0\n",
      "  number of timesteps = 1756\n"
     ]
    },
    {
     "data": {
      "image/png": "[encoded data removed]",
      "text/plain": [
       "<Figure size 432x288 with 1 Axes>"
      ]
     },
     "metadata": {
      "needs_background": "light"
     },
     "output_type": "display_data"
    }
   ],
   "source": [
    "hdf5filename = '/global/u1/h/houhun/sw4/sachdf5/inverse/berkeley-jan-4-2018_data/sta_berkeley.h5'\n",
    "staname = 'BK.WENL'\n",
    "comp = 1\n",
    "\n",
    "timeseries      = gettimeseries(hdf5filename, staname)\n",
    "x, y, z         = getxyz(hdf5filename, staname)\n",
    "lat, lon, depth = getlatlondp(hdf5filename, staname)\n",
    "loc             = getloc(hdf5filename, staname)\n",
    "starttime       = getstarttime(hdf5filename)\n",
    "data, npts      = getdata(hdf5filename, staname, comp)\n",
    "delta           = getdt(hdf5filename)\n",
    "unit            = getunit(hdf5filename)\n",
    "cmpaz, cmpinc   = getcmpazinc(hdf5filename, staname, comp)\n",
    "\n",
    "print('Station', staname)\n",
    "print('  x =', x, 'y =', y, 'z =', z)\n",
    "print('  lat =', lat, 'lon =', lon, 'depth =', depth)\n",
    "print('  loc =', loc)\n",
    "print('  start time =', starttime)\n",
    "print('  delta =', delta)\n",
    "print('  unit =', unit)\n",
    "print('  cmpaz =', cmpaz, 'cmpinc =', cmpinc)\n",
    "print('  number of timesteps =', npts)\n",
    "\n",
    "plt.title(staname+' comp_'+str(comp))\n",
    "plt.grid(color='grey', linestyle='-', linewidth=0.5)\n",
    "plt.ylabel(unit)\n",
    "plt.xlabel('Time(s)')\n",
    "plt.plot(timeseries, data, '-', color='red');\n"
   ]
  },
  {
   "cell_type": "code",
   "execution_count": null,
   "metadata": {},
   "outputs": [],
   "source": []
  }
 ],
 "metadata": {
  "kernelspec": {
   "display_name": "Python 3",
   "language": "python",
   "name": "python3"
  },
  "language_info": {
   "codemirror_mode": {
    "name": "ipython",
    "version": 3
   },
   "file_extension": ".py",
   "mimetype": "text/x-python",
   "name": "python",
   "nbconvert_exporter": "python",
   "pygments_lexer": "ipython3",
   "version": "3.7.3"
  }
 },
 "nbformat": 4,
 "nbformat_minor": 4
}
